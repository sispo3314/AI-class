{
 "cells": [
  {
   "cell_type": "code",
   "execution_count": 10,
   "id": "a20ce0e1-99a9-43c2-be83-a707139731a3",
   "metadata": {},
   "outputs": [],
   "source": [
    "import pandas as pd\n",
    "from sklearn.model_selection import train_test_split\n",
    "from sklearn.preprocessing import LabelEncoder\n",
    "from sklearn.tree import DecisionTreeClassifier\n",
    "from sklearn.ensemble import RandomForestClassifier\n",
    "from sklearn.svm import SVC\n",
    "from sklearn.preprocessing import StandardScaler\n",
    "from sklearn.neighbors import KNeighborsClassifier\n",
    "from sklearn.linear_model import LogisticRegression\n",
    "from sklearn.metrics import accuracy_score\n",
    "from sklearn.preprocessing import StandardScaler"
   ]
  },
  {
   "cell_type": "code",
   "execution_count": 17,
   "id": "149d374a-61b3-455c-b104-0c646445a2eb",
   "metadata": {},
   "outputs": [
    {
     "name": "stdout",
     "output_type": "stream",
     "text": [
      "Decision Tree Accuracy: 0.7532\n",
      "RandomForest Tree Accurcy: 0.7403\n",
      "SVM Accuracy: 0.7662\n",
      "Logistic Regression Accuracy: 0.7468\n"
     ]
    }
   ],
   "source": [
    "file_path=\"D:/인공지능개론/diabetes.csv\"\n",
    "df=pd.read_csv(file_path)\n",
    "\n",
    "scaler=StandardScaler()\n",
    "X_train=scaler.fit_transform(X_train)\n",
    "X_test=scaler.transform(X_test)\n",
    "\n",
    "\n",
    "X=df.iloc[:, :-1]\n",
    "y=df.iloc[:, -1]\n",
    "\n",
    "#데이터 분할 (0.8 훈련, 0.2 테스트)\n",
    "X_train, X_test, y_train, y_test=train_test_split(X, y, test_size=0.2, random_state=42)\n",
    "\n",
    "dt_clf=DecisionTreeClassifier()\n",
    "rf_clf=RandomForestClassifier()\n",
    "sv_clf=SVC()\n",
    "lr_clf=LogisticRegression(max_iter=200)\n",
    "\n",
    "dt_clf.fit(X_train, y_train)\n",
    "dt_pred=dt_clf.predict(X_test)\n",
    "print(\"Decision Tree Accuracy: {0:.4f}\".format(accuracy_score(y_test, dt_pred)))\n",
    "\n",
    "rf_clf.fit(X_train, y_train)\n",
    "rf_pred=rf_clf.predict(X_test)\n",
    "print(\"RandomForest Tree Accurcy: {0:.4f}\".format(accuracy_score(y_test, rf_pred)))\n",
    "\n",
    "sv_clf.fit(X_train, y_train)\n",
    "sv_pred=sv_clf.predict(X_test)\n",
    "print(\"SVM Accuracy: {0:.4f}\".format(accuracy_score(y_test, sv_pred)))\n",
    "\n",
    "lr_clf.fit(X_train, y_train)\n",
    "lr_pred=lr_clf.predict(X_test)\n",
    "print(\"Logistic Regression Accuracy: {0:.4f}\".format(accuracy_score(y_test, lr_pred)))\n"
   ]
  },
  {
   "cell_type": "code",
   "execution_count": 18,
   "id": "28cbf370-8603-49d6-89de-4d0a78276494",
   "metadata": {},
   "outputs": [
    {
     "name": "stdout",
     "output_type": "stream",
     "text": [
      "   Actual  DecisionTree  RandomForest  SVM  LogisticRegression\n",
      "0       0             1             0    0                   0\n",
      "1       0             0             0    0                   0\n",
      "2       0             0             0    0                   0\n",
      "3       0             0             0    0                   0\n",
      "4       0             0             1    0                   0\n",
      "5       0             0             1    0                   0\n",
      "6       0             0             0    0                   0\n",
      "7       0             0             1    0                   1\n",
      "8       0             0             1    1                   1\n",
      "9       0             1             1    1                   1\n"
     ]
    }
   ],
   "source": [
    "#예측값과 실제 결과 비교\n",
    "comparison_df=pd.DataFrame({\n",
    "    \"Actual\": y_test.values,\n",
    "    \"DecisionTree\": dt_pred,\n",
    "    \"RandomForest\": rf_pred,\n",
    "    \"SVM\": sv_pred,\n",
    "    \"LogisticRegression\": lr_pred\n",
    "})\n",
    "\n",
    "#상위 10개만 비교하기\n",
    "print(comparison_df.head(10))"
   ]
  },
  {
   "cell_type": "code",
   "execution_count": null,
   "id": "3df2980e-bad1-4800-8776-aca91ddc3eeb",
   "metadata": {},
   "outputs": [],
   "source": []
  }
 ],
 "metadata": {
  "kernelspec": {
   "display_name": "Python 3 (ipykernel)",
   "language": "python",
   "name": "python3"
  },
  "language_info": {
   "codemirror_mode": {
    "name": "ipython",
    "version": 3
   },
   "file_extension": ".py",
   "mimetype": "text/x-python",
   "name": "python",
   "nbconvert_exporter": "python",
   "pygments_lexer": "ipython3",
   "version": "3.12.7"
  }
 },
 "nbformat": 4,
 "nbformat_minor": 5
}
