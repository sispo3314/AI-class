{
 "cells": [
  {
   "cell_type": "code",
   "execution_count": 1,
   "id": "5a80195f-3b14-465e-9890-ef99b0c76780",
   "metadata": {},
   "outputs": [],
   "source": [
    "import pandas as pd\n",
    "from sklearn.model_selection import train_test_split\n",
    "from sklearn.preprocessing import LabelEncoder\n",
    "from sklearn.tree import DecisionTreeClassifier\n",
    "from sklearn.ensemble import RandomForestClassifier\n",
    "from sklearn.svm import SVC\n",
    "from sklearn.linear_model import LogisticRegression\n",
    "from sklearn.metrics import accuracy_score\n",
    "from sklearn.preprocessing import StandardScaler"
   ]
  },
  {
   "cell_type": "code",
   "execution_count": 28,
   "id": "0f306ef0-8a55-4260-b265-7e1149d61c0a",
   "metadata": {},
   "outputs": [
    {
     "name": "stdout",
     "output_type": "stream",
     "text": [
      "Decision Tree Accuracy: 0.8450\n",
      "RandomForest Tree Accurcy: 0.8875\n",
      "SVM Accuracy: 0.9650\n",
      "Logistic Regression Accuracy: 0.6825\n"
     ]
    },
    {
     "name": "stderr",
     "output_type": "stream",
     "text": [
      "D:\\anaconda3\\Lib\\site-packages\\sklearn\\linear_model\\_logistic.py:469: ConvergenceWarning: lbfgs failed to converge (status=1):\n",
      "STOP: TOTAL NO. of ITERATIONS REACHED LIMIT.\n",
      "\n",
      "Increase the number of iterations (max_iter) or scale the data as shown in:\n",
      "    https://scikit-learn.org/stable/modules/preprocessing.html\n",
      "Please also refer to the documentation for alternative solver options:\n",
      "    https://scikit-learn.org/stable/modules/linear_model.html#logistic-regression\n",
      "  n_iter_i = _check_optimize_result(\n"
     ]
    }
   ],
   "source": [
    "url=\"https://raw.githubusercontent.com/MyungKyuYi/AI-class/main/mobile.csv\"\n",
    "df=pd.read_csv(url)\n",
    "\n",
    "\n",
    "scaler=StandardScaler()\n",
    "X_train=scaler.fit_transform(X_train)\n",
    "X_test=scaler.transform(X_test)\n",
    "\n",
    "X=df.iloc[:, :-1]\n",
    "y=df.iloc[:, -1]\n",
    "\n",
    "#데이터 분할 (0.8 훈련, 0.2 테스트)\n",
    "X_train, X_test, y_train, y_test=train_test_split(X, y, test_size=0.2, random_state=42)\n",
    "\n",
    "dt_clf=DecisionTreeClassifier()\n",
    "rf_clf=RandomForestClassifier()\n",
    "sv_clf=SVC()\n",
    "lr_clf=LogisticRegression(max_iter=500)\n",
    "\n",
    "dt_clf.fit(X_train, y_train)\n",
    "dt_pred=dt_clf.predict(X_test)\n",
    "print(\"Decision Tree Accuracy: {0:.4f}\".format(accuracy_score(y_test, dt_pred)))\n",
    "\n",
    "rf_clf.fit(X_train, y_train)\n",
    "rf_pred=rf_clf.predict(X_test)\n",
    "print(\"RandomForest Tree Accurcy: {0:.4f}\".format(accuracy_score(y_test, rf_pred)))\n",
    "\n",
    "sv_clf.fit(X_train, y_train)\n",
    "sv_pred=sv_clf.predict(X_test)\n",
    "print(\"SVM Accuracy: {0:.4f}\".format(accuracy_score(y_test, sv_pred)))\n",
    "\n",
    "lr_clf.fit(X_train, y_train)\n",
    "lr_pred=lr_clf.predict(X_test)\n",
    "print(\"Logistic Regression Accuracy: {0:.4f}\".format(accuracy_score(y_test, lr_pred)))\n",
    "\n"
   ]
  },
  {
   "cell_type": "code",
   "execution_count": null,
   "id": "b6346eed-daaf-410d-bf63-bfb894dbb572",
   "metadata": {},
   "outputs": [],
   "source": []
  }
 ],
 "metadata": {
  "kernelspec": {
   "display_name": "Python 3 (ipykernel)",
   "language": "python",
   "name": "python3"
  },
  "language_info": {
   "codemirror_mode": {
    "name": "ipython",
    "version": 3
   },
   "file_extension": ".py",
   "mimetype": "text/x-python",
   "name": "python",
   "nbconvert_exporter": "python",
   "pygments_lexer": "ipython3",
   "version": "3.12.7"
  }
 },
 "nbformat": 4,
 "nbformat_minor": 5
}
