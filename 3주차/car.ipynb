{
 "cells": [
  {
   "cell_type": "code",
   "execution_count": 22,
   "id": "4034c44b-17fe-479c-bed1-2a91b6d07c9a",
   "metadata": {},
   "outputs": [
    {
     "name": "stdout",
     "output_type": "stream",
     "text": [
      "결측치 확인:\n",
      "vhigh.1    0\n",
      "2          0\n",
      "2.1        0\n",
      "small      0\n",
      "low        0\n",
      "unacc      0\n",
      "dtype: int64\n"
     ]
    }
   ],
   "source": [
    "from sklearn.model_selection import train_test_split\n",
    "from sklearn.preprocessing import LabelEncoder\n",
    "from sklearn.tree import DecisionTreeClassifier\n",
    "from sklearn.ensemble import RandomForestClassifier\n",
    "from sklearn.svm import SVC\n",
    "from sklearn.linear_model import LogisticRegression\n",
    "from sklearn.metrics import accuracy_score\n",
    "from sklearn.preprocessing import StandardScaler\n",
    "from sklearn.neighbors import KNeighborsClassifier\n",
    "from sklearn.metrics import confusion_matrix\n",
    "import numpy as np\n",
    "import pandas as pd\n",
    "import seaborn as sns\n",
    "from sklearn.model_selection import train_test_split\n",
    "\n",
    "df=pd.read_csv(\"D:/인공지능개론/car_evaluation.csv\", index_col=0)\n",
    "\n",
    "label_encoder=LabelEncoder()\n",
    "print(\"결측치 확인:\")\n",
    "print(df.isnull().sum())\n",
    "#결측치 없음??\n"
   ]
  },
  {
   "cell_type": "code",
   "execution_count": 23,
   "id": "85640b25-c995-4308-b809-2f8a78464c40",
   "metadata": {},
   "outputs": [],
   "source": [
    "# 데이터 복사\n",
    "df_cleaned = df.copy()\n",
    "\n",
    "# 범주형 데이터를 수치형으로 변환\n",
    "label_encoders = {}\n",
    "for col in df_cleaned.columns:\n",
    "    le = LabelEncoder()\n",
    "    df_cleaned[col] = le.fit_transform(df_cleaned[col])\n",
    "    label_encoders[col] = le"
   ]
  },
  {
   "cell_type": "code",
   "execution_count": 24,
   "id": "f252c673-b03b-4131-9e4f-097600971428",
   "metadata": {},
   "outputs": [
    {
     "name": "stdout",
     "output_type": "stream",
     "text": [
      "Decision Tree Accuracy: 0.7283\n",
      "RandomForest Tree Accurcy: 0.7225\n",
      "SVM Accuracy: 0.7832\n",
      "Logistic Regression Accuracy: 0.6821\n"
     ]
    }
   ],
   "source": [
    "X = df_cleaned.iloc[:, :-1]  # 마지막 열을 제외한 나머지는 입력 변수\n",
    "y = df_cleaned.iloc[:, -1]   # 마지막 열이 타겟 변수\n",
    "\n",
    "# 데이터 분할 (80% 학습, 20% 테스트)\n",
    "X_train, X_test, y_train, y_test = train_test_split(X, y, test_size=0.2, random_state=42)\n",
    "\n",
    "dt_clf=DecisionTreeClassifier()\n",
    "rf_clf=RandomForestClassifier()\n",
    "sv_clf=SVC()\n",
    "lr_clf=LogisticRegression(max_iter=200)\n",
    "\n",
    "dt_clf.fit(X_train, y_train)\n",
    "dt_pred=dt_clf.predict(X_test)\n",
    "print(\"Decision Tree Accuracy: {0:.4f}\".format(accuracy_score(y_test, dt_pred)))\n",
    "\n",
    "rf_clf.fit(X_train, y_train)\n",
    "rf_pred=rf_clf.predict(X_test)\n",
    "print(\"RandomForest Tree Accurcy: {0:.4f}\".format(accuracy_score(y_test, rf_pred)))\n",
    "\n",
    "sv_clf.fit(X_train, y_train)\n",
    "sv_pred=sv_clf.predict(X_test)\n",
    "print(\"SVM Accuracy: {0:.4f}\".format(accuracy_score(y_test, sv_pred)))\n",
    "\n",
    "lr_clf.fit(X_train, y_train)\n",
    "lr_pred=lr_clf.predict(X_test)\n",
    "print(\"Logistic Regression Accuracy: {0:.4f}\".format(accuracy_score(y_test, lr_pred)))"
   ]
  },
  {
   "cell_type": "code",
   "execution_count": 25,
   "id": "e3608b94-7838-4a69-a132-5a7e3815265c",
   "metadata": {},
   "outputs": [
    {
     "name": "stdout",
     "output_type": "stream",
     "text": [
      "   Actual  DecisionTree  RandomForest  SVM  LogisticRegression\n",
      "0       2             2             2    2                   2\n",
      "1       2             2             2    2                   2\n",
      "2       2             2             2    2                   2\n",
      "3       0             0             0    0                   2\n",
      "4       2             2             2    2                   0\n",
      "5       0             2             2    2                   2\n",
      "6       2             2             2    2                   2\n",
      "7       2             2             2    2                   2\n",
      "8       2             2             2    2                   2\n",
      "9       2             2             2    2                   2\n"
     ]
    }
   ],
   "source": [
    "#예측값과 실제 결과 비교\n",
    "comparison_df=pd.DataFrame({\n",
    "    \"Actual\": y_test.values,\n",
    "    \"DecisionTree\": dt_pred,\n",
    "    \"RandomForest\": rf_pred,\n",
    "    \"SVM\": sv_pred,\n",
    "    \"LogisticRegression\": lr_pred\n",
    "})\n",
    "\n",
    "#상위 10개만 비교하기\n",
    "print(comparison_df.head(10))"
   ]
  },
  {
   "cell_type": "code",
   "execution_count": null,
   "id": "c6103b43-4192-48da-8043-9c4fc02ceacb",
   "metadata": {},
   "outputs": [],
   "source": []
  }
 ],
 "metadata": {
  "kernelspec": {
   "display_name": "Python 3 (ipykernel)",
   "language": "python",
   "name": "python3"
  },
  "language_info": {
   "codemirror_mode": {
    "name": "ipython",
    "version": 3
   },
   "file_extension": ".py",
   "mimetype": "text/x-python",
   "name": "python",
   "nbconvert_exporter": "python",
   "pygments_lexer": "ipython3",
   "version": "3.12.7"
  }
 },
 "nbformat": 4,
 "nbformat_minor": 5
}
