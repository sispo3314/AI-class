{
 "cells": [
  {
   "cell_type": "code",
   "execution_count": 40,
   "id": "4034c44b-17fe-479c-bed1-2a91b6d07c9a",
   "metadata": {},
   "outputs": [
    {
     "name": "stdout",
     "output_type": "stream",
     "text": [
      "결측치 확인:\n",
      "vhigh.1    0\n",
      "2          0\n",
      "2.1        0\n",
      "small      0\n",
      "low        0\n",
      "unacc      0\n",
      "dtype: int64\n"
     ]
    }
   ],
   "source": [
    "from sklearn.model_selection import train_test_split\n",
    "from sklearn.preprocessing import LabelEncoder\n",
    "from sklearn.tree import DecisionTreeClassifier\n",
    "from sklearn.ensemble import RandomForestClassifier\n",
    "from sklearn.svm import SVC\n",
    "from sklearn.linear_model import LogisticRegression\n",
    "from sklearn.metrics import accuracy_score\n",
    "from sklearn.preprocessing import StandardScaler\n",
    "from sklearn.neighbors import KNeighborsClassifier\n",
    "from sklearn.metrics import confusion_matrix\n",
    "import numpy as np\n",
    "import pandas as pd\n",
    "import seaborn as sns\n",
    "from sklearn.model_selection import train_test_split\n",
    "\n",
    "df=pd.read_csv(\"D:/인공지능개론/car_evaluation.csv\", index_col=0)\n",
    "\n",
    "label_encoder=LabelEncoder()\n",
    "print(\"결측치 확인:\")\n",
    "print(df.isnull().sum())\n",
    "#결측치 없음??\n"
   ]
  },
  {
   "cell_type": "code",
   "execution_count": 41,
   "id": "85640b25-c995-4308-b809-2f8a78464c40",
   "metadata": {},
   "outputs": [],
   "source": [
    "scaler=StandardScaler()\n",
    "X_train=scaler.fit_transform(X_train)\n",
    "X_test=scaler.transform(X_test)\n",
    "\n",
    "\n",
    "X=df.iloc[:, :-1]\n",
    "y=df.iloc[:, -1]"
   ]
  },
  {
   "cell_type": "code",
   "execution_count": 42,
   "id": "f252c673-b03b-4131-9e4f-097600971428",
   "metadata": {},
   "outputs": [
    {
     "name": "stdout",
     "output_type": "stream",
     "text": [
      "Decision Tree Accuracy: 0.7283\n",
      "RandomForest Tree Accurcy: 0.7225\n",
      "SVM Accuracy: 0.7832\n",
      "Logistic Regression Accuracy: 0.6821\n"
     ]
    }
   ],
   "source": [
    "X = df_cleaned.iloc[:, :-1] \n",
    "y = df_cleaned.iloc[:, -1]   \n",
    "\n",
    "# 데이터 분할 (80% 학습, 20% 테스트)\n",
    "X_train, X_test, y_train, y_test = train_test_split(X, y, test_size=0.2, random_state=42)\n",
    "\n",
    "dt_clf=DecisionTreeClassifier()\n",
    "rf_clf=RandomForestClassifier()\n",
    "sv_clf=SVC()\n",
    "lr_clf=LogisticRegression(max_iter=200)\n",
    "\n",
    "dt_clf.fit(X_train, y_train)\n",
    "dt_pred=dt_clf.predict(X_test)\n",
    "print(\"Decision Tree Accuracy: {0:.4f}\".format(accuracy_score(y_test, dt_pred)))\n",
    "\n",
    "rf_clf.fit(X_train, y_train)\n",
    "rf_pred=rf_clf.predict(X_test)\n",
    "print(\"RandomForest Tree Accurcy: {0:.4f}\".format(accuracy_score(y_test, rf_pred)))\n",
    "\n",
    "sv_clf.fit(X_train, y_train)\n",
    "sv_pred=sv_clf.predict(X_test)\n",
    "print(\"SVM Accuracy: {0:.4f}\".format(accuracy_score(y_test, sv_pred)))\n",
    "\n",
    "lr_clf.fit(X_train, y_train)\n",
    "lr_pred=lr_clf.predict(X_test)\n",
    "print(\"Logistic Regression Accuracy: {0:.4f}\".format(accuracy_score(y_test, lr_pred)))"
   ]
  },
  {
   "cell_type": "code",
   "execution_count": 43,
   "id": "e3608b94-7838-4a69-a132-5a7e3815265c",
   "metadata": {},
   "outputs": [
    {
     "name": "stdout",
     "output_type": "stream",
     "text": [
      "   Actual  DecisionTree  RandomForest  SVM  LogisticRegression\n",
      "0       2             2             2    2                   2\n",
      "1       2             2             2    2                   2\n",
      "2       2             2             2    2                   2\n",
      "3       0             0             0    0                   2\n",
      "4       2             2             2    2                   0\n",
      "5       0             2             2    2                   2\n",
      "6       2             2             2    2                   2\n",
      "7       2             2             2    2                   2\n",
      "8       2             2             2    2                   2\n",
      "9       2             2             2    2                   2\n"
     ]
    }
   ],
   "source": [
    "#예측값과 실제 결과 비교\n",
    "comparison_df=pd.DataFrame({\n",
    "    \"Actual\": y_test.values,\n",
    "    \"DecisionTree\": dt_pred,\n",
    "    \"RandomForest\": rf_pred,\n",
    "    \"SVM\": sv_pred,\n",
    "    \"LogisticRegression\": lr_pred\n",
    "})\n",
    "\n",
    "#상위 10개만 비교하기\n",
    "print(comparison_df.head(10))"
   ]
  },
  {
   "cell_type": "code",
   "execution_count": 44,
   "id": "c6103b43-4192-48da-8043-9c4fc02ceacb",
   "metadata": {},
   "outputs": [
    {
     "name": "stdout",
     "output_type": "stream",
     "text": [
      "KNN accuracy: 0.7197\n",
      "KNN Confusion Matrix:\n",
      " [[ 35   6  30   6]\n",
      " [ 14   1   0   0]\n",
      " [ 24   0 213   0]\n",
      " [ 17   0   0   0]]\n"
     ]
    }
   ],
   "source": [
    "#KNN 모델 생성 (k=3)\n",
    "k=3\n",
    "knn=KNeighborsClassifier(n_neighbors=k)\n",
    "\n",
    "#모델 학습\n",
    "knn.fit(X_train, y_train)\n",
    "\n",
    "y_pred=knn.predict(X_test)\n",
    "accuracy=accuracy_score(y_test, y_pred)\n",
    "knn_cm=confusion_matrix(y_test, y_pred)\n",
    "\n",
    "print(f\"KNN accuracy: {accuracy:.4f}\")\n",
    "print(\"KNN Confusion Matrix:\\n\", knn_cm)"
   ]
  },
  {
   "cell_type": "code",
   "execution_count": 45,
   "id": "fcbdb816-49f2-4dd0-8383-27204267f348",
   "metadata": {},
   "outputs": [
    {
     "name": "stdout",
     "output_type": "stream",
     "text": [
      "Decision Tree Accuracy: 0.7283\n",
      "Decision Tree Confusion Matrix:\n",
      " [[ 41   5  25   6]\n",
      " [ 15   0   0   0]\n",
      " [ 26   0 211   0]\n",
      " [ 16   0   1   0]]\n"
     ]
    }
   ],
   "source": [
    "dt_clf=DecisionTreeClassifier()\n",
    "rf_clf=RandomForestClassifier()\n",
    "sv_clf=SVC()\n",
    "lr_clf=LogisticRegression(max_iter=200)\n",
    "\n",
    "dt_clf.fit(X_train, y_train)\n",
    "dt_pred=dt_clf.predict(X_test)\n",
    "dt_cm=confusion_matrix(y_test, dt_pred)\n",
    "\n",
    "print(\"Decision Tree Accuracy: {0:.4f}\".format(accuracy_score(y_test, dt_pred)))\n",
    "print(\"Decision Tree Confusion Matrix:\\n\", dt_cm)"
   ]
  },
  {
   "cell_type": "code",
   "execution_count": 46,
   "id": "65bc9011-eeaf-4c03-ab17-b22b4e8b8956",
   "metadata": {},
   "outputs": [
    {
     "name": "stdout",
     "output_type": "stream",
     "text": [
      "RandomForest Tree Accurcy: 0.7197\n",
      "RandomForest Tree Confusion Matrix:\n",
      " [[ 31   6  33   7]\n",
      " [ 14   1   0   0]\n",
      " [ 21   0 216   0]\n",
      " [ 15   0   1   1]]\n"
     ]
    }
   ],
   "source": [
    "rf_clf.fit(X_train, y_train)\n",
    "rf_pred=rf_clf.predict(X_test)\n",
    "rf_cm=confusion_matrix(y_test, rf_pred)\n",
    "\n",
    "print(\"RandomForest Tree Accurcy: {0:.4f}\".format(accuracy_score(y_test, rf_pred)))\n",
    "print(\"RandomForest Tree Confusion Matrix:\\n\", rf_cm)"
   ]
  },
  {
   "cell_type": "code",
   "execution_count": 47,
   "id": "aa5087b8-57be-4bfb-8d2c-908d4a0b1ab8",
   "metadata": {},
   "outputs": [
    {
     "name": "stdout",
     "output_type": "stream",
     "text": [
      "SVM Accuracy: 0.7832\n",
      "SVM Confusion Matrix:\n",
      " [[ 49   0  28   0]\n",
      " [ 15   0   0   0]\n",
      " [ 15   0 222   0]\n",
      " [ 17   0   0   0]]\n"
     ]
    }
   ],
   "source": [
    "sv_clf.fit(X_train, y_train)\n",
    "sv_pred=sv_clf.predict(X_test)\n",
    "sv_cm=confusion_matrix(y_test, sv_pred)\n",
    "\n",
    "print(\"SVM Accuracy: {0:.4f}\".format(accuracy_score(y_test, sv_pred)))\n",
    "print(\"SVM Confusion Matrix:\\n\", sv_cm)"
   ]
  },
  {
   "cell_type": "code",
   "execution_count": 48,
   "id": "990b1027-4f83-4514-a202-2186e6b40e53",
   "metadata": {},
   "outputs": [
    {
     "name": "stdout",
     "output_type": "stream",
     "text": [
      "Logistic Regression Accuracy: 0.6821\n",
      "Logistic Regression Confusion Matrix:\n",
      " [[ 13   0  63   1]\n",
      " [  3   0  12   0]\n",
      " [ 15   0 222   0]\n",
      " [ 11   0   5   1]]\n"
     ]
    }
   ],
   "source": [
    "lr_clf.fit(X_train, y_train)\n",
    "lr_pred=lr_clf.predict(X_test)\n",
    "lr_cm=confusion_matrix(y_test, lr_pred)\n",
    "\n",
    "print(\"Logistic Regression Accuracy: {0:.4f}\".format(accuracy_score(y_test, lr_pred)))\n",
    "print(\"Logistic Regression Confusion Matrix:\\n\", lr_cm)"
   ]
  },
  {
   "cell_type": "code",
   "execution_count": null,
   "id": "9fe7946d-92bd-4bd1-91dd-05ca20e73f9f",
   "metadata": {},
   "outputs": [],
   "source": []
  }
 ],
 "metadata": {
  "kernelspec": {
   "display_name": "Python 3 (ipykernel)",
   "language": "python",
   "name": "python3"
  },
  "language_info": {
   "codemirror_mode": {
    "name": "ipython",
    "version": 3
   },
   "file_extension": ".py",
   "mimetype": "text/x-python",
   "name": "python",
   "nbconvert_exporter": "python",
   "pygments_lexer": "ipython3",
   "version": "3.12.7"
  }
 },
 "nbformat": 4,
 "nbformat_minor": 5
}
